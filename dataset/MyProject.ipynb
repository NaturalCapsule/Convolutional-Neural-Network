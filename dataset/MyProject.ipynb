{
 "cells": [
  {
   "cell_type": "markdown",
   "metadata": {},
   "source": [
    "## Importing libraries"
   ]
  },
  {
   "cell_type": "code",
   "execution_count": 1,
   "metadata": {},
   "outputs": [],
   "source": [
    "import numpy as np\n",
    "import pandas as pd\n",
    "import tensorflow as tf\n",
    "from tensorflow.keras.models import Sequential\n",
    "from tensorflow.keras.preprocessing.image import ImageDataGenerator, load_img, img_to_array\n",
    "import sys\n",
    "from PIL import Image\n",
    "sys.modules['Image'] = Image "
   ]
  },
  {
   "cell_type": "markdown",
   "metadata": {},
   "source": [
    "## Data Preprocessing"
   ]
  },
  {
   "cell_type": "code",
   "execution_count": 2,
   "metadata": {},
   "outputs": [
    {
     "name": "stdout",
     "output_type": "stream",
     "text": [
      "Found 8000 images belonging to 2 classes.\n",
      "Found 2000 images belonging to 2 classes.\n"
     ]
    }
   ],
   "source": [
    "test_data_gen = ImageDataGenerator(\n",
    "    rescale = 1./255\n",
    ")\n",
    "\n",
    "train_datagen = ImageDataGenerator(rescale = 1./255,\n",
    "                                   shear_range = 0.2,\n",
    "                                   zoom_range = 0.2,\n",
    "                                   horizontal_flip = True)\n",
    "training_set = train_datagen.flow_from_directory('dataset/training_set',\n",
    "                                                 target_size = (64, 64),\n",
    "                                                 batch_size = 32,\n",
    "                                                 class_mode = 'binary')\n",
    "\n",
    "test_set = test_data_gen.flow_from_directory('dataset/test_set',\n",
    "                                            target_size = (64, 64),\n",
    "                                            batch_size = 32,\n",
    "                                            class_mode = 'binary',\n",
    "                                            )"
   ]
  },
  {
   "cell_type": "markdown",
   "metadata": {},
   "source": [
    "## Making a CNN model to predict if the images are a dog or a cat"
   ]
  },
  {
   "cell_type": "code",
   "execution_count": 3,
   "metadata": {},
   "outputs": [],
   "source": [
    "cnn = Sequential()\n",
    "cnn.add(tf.keras.layers.Conv2D(filters = 32, kernel_size = 3, activation  ='relu'))\n",
    "cnn.add(tf.keras.layers.MaxPool2D(strides = 2, pool_size = 2))\n",
    "\n",
    "cnn.add(tf.keras.layers.Conv2D(filters = 32, kernel_size = 3, activation  ='relu'))\n",
    "cnn.add(tf.keras.layers.MaxPool2D(strides = 2, pool_size = 2))\n",
    "\n",
    "cnn.add(tf.keras.layers.Conv2D(filters = 32, kernel_size = 3, activation  ='relu'))\n",
    "cnn.add(tf.keras.layers.MaxPool2D(strides = 2, pool_size = 2))\n",
    "\n",
    "cnn.add(tf.keras.layers.Flatten())\n",
    "cnn.add(tf.keras.layers.Dense(units = 128, activation = 'relu'))\n",
    "cnn.add(tf.keras.layers.Dense(units = 1, activation = 'sigmoid'))"
   ]
  },
  {
   "cell_type": "markdown",
   "metadata": {},
   "source": [
    "## Compiling and fitting"
   ]
  },
  {
   "cell_type": "code",
   "execution_count": 4,
   "metadata": {},
   "outputs": [
    {
     "name": "stdout",
     "output_type": "stream",
     "text": [
      "Epoch 1/60\n",
      "250/250 [==============================] - 19s 71ms/step - loss: 0.6737 - accuracy: 0.5716 - val_loss: 0.6538 - val_accuracy: 0.5950\n",
      "Epoch 2/60\n",
      "250/250 [==============================] - 15s 62ms/step - loss: 0.6048 - accuracy: 0.6755 - val_loss: 0.6084 - val_accuracy: 0.6615\n",
      "Epoch 3/60\n",
      "250/250 [==============================] - 14s 56ms/step - loss: 0.5657 - accuracy: 0.7075 - val_loss: 0.5430 - val_accuracy: 0.7335\n",
      "Epoch 4/60\n",
      "250/250 [==============================] - 13s 51ms/step - loss: 0.5251 - accuracy: 0.7384 - val_loss: 0.5379 - val_accuracy: 0.7315\n",
      "Epoch 5/60\n",
      "250/250 [==============================] - 16s 63ms/step - loss: 0.5021 - accuracy: 0.7554 - val_loss: 0.4846 - val_accuracy: 0.7700\n",
      "Epoch 6/60\n",
      "250/250 [==============================] - 16s 62ms/step - loss: 0.4858 - accuracy: 0.7639 - val_loss: 0.4662 - val_accuracy: 0.7770\n",
      "Epoch 7/60\n",
      "250/250 [==============================] - 15s 61ms/step - loss: 0.4749 - accuracy: 0.7697 - val_loss: 0.4675 - val_accuracy: 0.7745\n",
      "Epoch 8/60\n",
      "250/250 [==============================] - 15s 58ms/step - loss: 0.4545 - accuracy: 0.7837 - val_loss: 0.5058 - val_accuracy: 0.7480\n",
      "Epoch 9/60\n",
      "250/250 [==============================] - 13s 51ms/step - loss: 0.4330 - accuracy: 0.7924 - val_loss: 0.4321 - val_accuracy: 0.8020\n",
      "Epoch 10/60\n",
      "250/250 [==============================] - 13s 50ms/step - loss: 0.4210 - accuracy: 0.8048 - val_loss: 0.4470 - val_accuracy: 0.7935\n",
      "Epoch 11/60\n",
      "250/250 [==============================] - 13s 52ms/step - loss: 0.4079 - accuracy: 0.8130 - val_loss: 0.4433 - val_accuracy: 0.7865\n",
      "Epoch 12/60\n",
      "250/250 [==============================] - 13s 51ms/step - loss: 0.4008 - accuracy: 0.8189 - val_loss: 0.4408 - val_accuracy: 0.7945\n",
      "Epoch 13/60\n",
      "250/250 [==============================] - 13s 51ms/step - loss: 0.3958 - accuracy: 0.8185 - val_loss: 0.4314 - val_accuracy: 0.7960\n",
      "Epoch 14/60\n",
      "250/250 [==============================] - 13s 52ms/step - loss: 0.3808 - accuracy: 0.8301 - val_loss: 0.4106 - val_accuracy: 0.8060\n",
      "Epoch 15/60\n",
      "250/250 [==============================] - 13s 52ms/step - loss: 0.3713 - accuracy: 0.8335 - val_loss: 0.3982 - val_accuracy: 0.8350\n",
      "Epoch 16/60\n",
      "250/250 [==============================] - 13s 50ms/step - loss: 0.3582 - accuracy: 0.8389 - val_loss: 0.4017 - val_accuracy: 0.8225\n",
      "Epoch 17/60\n",
      "250/250 [==============================] - 13s 51ms/step - loss: 0.3483 - accuracy: 0.8454 - val_loss: 0.4366 - val_accuracy: 0.8030\n",
      "Epoch 18/60\n",
      "250/250 [==============================] - 13s 50ms/step - loss: 0.3410 - accuracy: 0.8528 - val_loss: 0.3970 - val_accuracy: 0.8300\n",
      "Epoch 19/60\n",
      "250/250 [==============================] - 13s 52ms/step - loss: 0.3345 - accuracy: 0.8499 - val_loss: 0.3986 - val_accuracy: 0.8210\n",
      "Epoch 20/60\n",
      "250/250 [==============================] - 13s 51ms/step - loss: 0.3229 - accuracy: 0.8546 - val_loss: 0.3790 - val_accuracy: 0.8290\n",
      "Epoch 21/60\n",
      "250/250 [==============================] - 13s 51ms/step - loss: 0.3169 - accuracy: 0.8604 - val_loss: 0.4259 - val_accuracy: 0.8095\n",
      "Epoch 22/60\n",
      "250/250 [==============================] - 13s 50ms/step - loss: 0.3134 - accuracy: 0.8640 - val_loss: 0.3823 - val_accuracy: 0.8460\n",
      "Epoch 23/60\n",
      "250/250 [==============================] - 13s 52ms/step - loss: 0.3038 - accuracy: 0.8687 - val_loss: 0.4988 - val_accuracy: 0.7860\n",
      "Epoch 24/60\n",
      "250/250 [==============================] - 13s 51ms/step - loss: 0.3104 - accuracy: 0.8634 - val_loss: 0.4099 - val_accuracy: 0.8165\n",
      "Epoch 25/60\n",
      "250/250 [==============================] - 13s 51ms/step - loss: 0.2872 - accuracy: 0.8770 - val_loss: 0.4235 - val_accuracy: 0.8275\n",
      "Epoch 26/60\n",
      "250/250 [==============================] - 13s 51ms/step - loss: 0.2806 - accuracy: 0.8750 - val_loss: 0.4362 - val_accuracy: 0.8180\n",
      "Epoch 27/60\n",
      "250/250 [==============================] - 13s 53ms/step - loss: 0.2853 - accuracy: 0.8790 - val_loss: 0.3934 - val_accuracy: 0.8440\n",
      "Epoch 28/60\n",
      "250/250 [==============================] - 13s 51ms/step - loss: 0.2630 - accuracy: 0.8851 - val_loss: 0.4362 - val_accuracy: 0.8225\n",
      "Epoch 29/60\n",
      "250/250 [==============================] - 13s 51ms/step - loss: 0.2654 - accuracy: 0.8831 - val_loss: 0.3920 - val_accuracy: 0.8425\n",
      "Epoch 30/60\n",
      "250/250 [==============================] - 13s 51ms/step - loss: 0.2547 - accuracy: 0.8951 - val_loss: 0.4136 - val_accuracy: 0.8335\n",
      "Epoch 31/60\n",
      "250/250 [==============================] - 14s 55ms/step - loss: 0.2455 - accuracy: 0.8936 - val_loss: 0.4204 - val_accuracy: 0.8295\n",
      "Epoch 32/60\n",
      "250/250 [==============================] - 17s 67ms/step - loss: 0.2313 - accuracy: 0.9064 - val_loss: 0.4279 - val_accuracy: 0.8360\n",
      "Epoch 33/60\n",
      "250/250 [==============================] - 14s 55ms/step - loss: 0.2269 - accuracy: 0.9054 - val_loss: 0.4102 - val_accuracy: 0.8340\n",
      "Epoch 34/60\n",
      "250/250 [==============================] - 13s 54ms/step - loss: 0.2296 - accuracy: 0.9062 - val_loss: 0.4354 - val_accuracy: 0.8190\n",
      "Epoch 35/60\n",
      "250/250 [==============================] - 14s 55ms/step - loss: 0.2134 - accuracy: 0.9135 - val_loss: 0.4530 - val_accuracy: 0.8375\n",
      "Epoch 36/60\n",
      "250/250 [==============================] - 14s 55ms/step - loss: 0.2131 - accuracy: 0.9109 - val_loss: 0.4567 - val_accuracy: 0.8355\n",
      "Epoch 37/60\n",
      "250/250 [==============================] - 14s 54ms/step - loss: 0.2077 - accuracy: 0.9162 - val_loss: 0.4416 - val_accuracy: 0.8470\n",
      "Epoch 38/60\n",
      "250/250 [==============================] - 13s 54ms/step - loss: 0.1973 - accuracy: 0.9172 - val_loss: 0.4898 - val_accuracy: 0.8265\n",
      "Epoch 39/60\n",
      "250/250 [==============================] - 14s 55ms/step - loss: 0.1976 - accuracy: 0.9161 - val_loss: 0.4752 - val_accuracy: 0.8230\n",
      "Epoch 40/60\n",
      "250/250 [==============================] - 13s 53ms/step - loss: 0.1836 - accuracy: 0.9262 - val_loss: 0.4766 - val_accuracy: 0.8485\n",
      "Epoch 41/60\n",
      "250/250 [==============================] - 13s 52ms/step - loss: 0.1876 - accuracy: 0.9233 - val_loss: 0.4938 - val_accuracy: 0.8340\n",
      "Epoch 42/60\n",
      "250/250 [==============================] - 13s 52ms/step - loss: 0.1765 - accuracy: 0.9269 - val_loss: 0.4868 - val_accuracy: 0.8370\n",
      "Epoch 43/60\n",
      "250/250 [==============================] - 13s 54ms/step - loss: 0.1690 - accuracy: 0.9320 - val_loss: 0.4794 - val_accuracy: 0.8410\n",
      "Epoch 44/60\n",
      "250/250 [==============================] - 13s 53ms/step - loss: 0.1747 - accuracy: 0.9301 - val_loss: 0.5269 - val_accuracy: 0.8290\n",
      "Epoch 45/60\n",
      "250/250 [==============================] - 13s 52ms/step - loss: 0.1659 - accuracy: 0.9340 - val_loss: 0.4801 - val_accuracy: 0.8390\n",
      "Epoch 46/60\n",
      "250/250 [==============================] - 13s 53ms/step - loss: 0.1545 - accuracy: 0.9380 - val_loss: 0.5386 - val_accuracy: 0.8240\n",
      "Epoch 47/60\n",
      "250/250 [==============================] - 13s 54ms/step - loss: 0.1516 - accuracy: 0.9394 - val_loss: 0.4853 - val_accuracy: 0.8385\n",
      "Epoch 48/60\n",
      "250/250 [==============================] - 13s 52ms/step - loss: 0.1501 - accuracy: 0.9388 - val_loss: 0.5266 - val_accuracy: 0.8385\n",
      "Epoch 49/60\n",
      "250/250 [==============================] - 13s 52ms/step - loss: 0.1468 - accuracy: 0.9409 - val_loss: 0.5489 - val_accuracy: 0.8345\n",
      "Epoch 50/60\n",
      "250/250 [==============================] - 13s 51ms/step - loss: 0.1449 - accuracy: 0.9420 - val_loss: 0.5162 - val_accuracy: 0.8430\n",
      "Epoch 51/60\n",
      "250/250 [==============================] - 13s 52ms/step - loss: 0.1353 - accuracy: 0.9490 - val_loss: 0.5740 - val_accuracy: 0.8400\n",
      "Epoch 52/60\n",
      "250/250 [==============================] - 13s 52ms/step - loss: 0.1302 - accuracy: 0.9484 - val_loss: 0.5435 - val_accuracy: 0.8425\n",
      "Epoch 53/60\n",
      "250/250 [==============================] - 13s 51ms/step - loss: 0.1275 - accuracy: 0.9491 - val_loss: 0.6114 - val_accuracy: 0.8305\n",
      "Epoch 54/60\n",
      "250/250 [==============================] - 13s 51ms/step - loss: 0.1348 - accuracy: 0.9460 - val_loss: 0.6158 - val_accuracy: 0.8125\n",
      "Epoch 55/60\n",
      "250/250 [==============================] - 13s 52ms/step - loss: 0.1206 - accuracy: 0.9550 - val_loss: 0.6435 - val_accuracy: 0.8220\n",
      "Epoch 56/60\n",
      "250/250 [==============================] - 13s 51ms/step - loss: 0.1235 - accuracy: 0.9515 - val_loss: 0.5873 - val_accuracy: 0.8380\n",
      "Epoch 57/60\n",
      "250/250 [==============================] - 13s 51ms/step - loss: 0.1068 - accuracy: 0.9596 - val_loss: 0.6613 - val_accuracy: 0.8275\n",
      "Epoch 58/60\n",
      "250/250 [==============================] - 13s 51ms/step - loss: 0.1159 - accuracy: 0.9535 - val_loss: 0.6161 - val_accuracy: 0.8375\n",
      "Epoch 59/60\n",
      "250/250 [==============================] - 13s 52ms/step - loss: 0.1080 - accuracy: 0.9579 - val_loss: 0.5966 - val_accuracy: 0.8460\n",
      "Epoch 60/60\n",
      "250/250 [==============================] - 13s 51ms/step - loss: 0.1106 - accuracy: 0.9578 - val_loss: 0.6529 - val_accuracy: 0.8385\n"
     ]
    },
    {
     "data": {
      "text/plain": [
       "<keras.callbacks.History at 0x26b245d6b30>"
      ]
     },
     "execution_count": 4,
     "metadata": {},
     "output_type": "execute_result"
    }
   ],
   "source": [
    "cnn.compile(optimizer = 'adam', loss = 'binary_crossentropy', metrics = ['accuracy'])\n",
    "cnn.fit(x = training_set, validation_data = test_set, batch_size = 32, epochs = 60)"
   ]
  },
  {
   "cell_type": "markdown",
   "metadata": {},
   "source": [
    "## Making a single predicton"
   ]
  },
  {
   "cell_type": "code",
   "execution_count": 10,
   "metadata": {},
   "outputs": [
    {
     "name": "stdout",
     "output_type": "stream",
     "text": [
      "1/1 [==============================] - 0s 15ms/step\n",
      "Dog\n"
     ]
    }
   ],
   "source": [
    "test_img = load_img('dog.webp', target_size = (64, 64))\n",
    "test_img = img_to_array(test_img)\n",
    "test_img = np.expand_dims(test_img, axis = 0)\n",
    "result = cnn.predict(test_img)\n",
    "if result[0][0] == 0:\n",
    "    print('cat')\n",
    "else:\n",
    "    print('Dog')"
   ]
  },
  {
   "cell_type": "code",
   "execution_count": 11,
   "metadata": {},
   "outputs": [
    {
     "name": "stdout",
     "output_type": "stream",
     "text": [
      "1/1 [==============================] - 0s 13ms/step\n",
      "cat\n"
     ]
    }
   ],
   "source": [
    "test_img = load_img('cat.jpg', target_size = (64, 64))\n",
    "test_img = img_to_array(test_img)\n",
    "test_img = np.expand_dims(test_img, axis = 0)\n",
    "result = cnn.predict(test_img)\n",
    "if result[0][0] == 0:\n",
    "    print('cat')\n",
    "else:\n",
    "    print('Dog')"
   ]
  }
 ],
 "metadata": {
  "kernelspec": {
   "display_name": "Python 3",
   "language": "python",
   "name": "python3"
  },
  "language_info": {
   "codemirror_mode": {
    "name": "ipython",
    "version": 3
   },
   "file_extension": ".py",
   "mimetype": "text/x-python",
   "name": "python",
   "nbconvert_exporter": "python",
   "pygments_lexer": "ipython3",
   "version": "3.12.3"
  }
 },
 "nbformat": 4,
 "nbformat_minor": 2
}
